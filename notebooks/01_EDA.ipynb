{
  "cells": [
    {
      "cell_type": "markdown",
      "metadata": {},
      "source": [
        "# 01 - Exploratory Data Analysis\n",
        "\n",
        "This notebook explores the MIMIC-IV data for survival analysis.\n"
      ]
    },
    {
      "cell_type": "markdown",
      "metadata": {},
      "source": [
        "## Setup\n",
        "\n",
        "Import required libraries and set up the environment.\n"
      ]
    },
    {
      "cell_type": "code",
      "execution_count": null,
      "metadata": {},
      "outputs": [],
      "source": [
        "import sys\n",
        "sys.path.append('..')\n",
        "\n",
        "import pandas as pd\n",
        "import numpy as np\n",
        "import matplotlib.pyplot as plt\n",
        "import seaborn as sns\n",
        "from pathlib import Path\n",
        "import warnings\n",
        "warnings.filterwarnings('ignore')\n",
        "\n",
        "# Set style\n",
        "sns.set_style('whitegrid')\n",
        "plt.rcParams['figure.figsize'] = (12, 6)\n",
        "plt.rcParams['font.size'] = 10\n",
        "\n",
        "%matplotlib inline\n",
        "\n",
        "print(\"Libraries loaded successfully!\")\n"
      ]
    },
    {
      "cell_type": "markdown",
      "metadata": {},
      "source": [
        "## Load Data\n",
        "\n",
        "Load the MIMIC-IV Demo data files.\n"
      ]
    },
    {
      "cell_type": "code",
      "execution_count": null,
      "metadata": {},
      "outputs": [],
      "source": [
        "# Set data directory\n",
        "DATA_DIR = Path('../data/raw/mimic-iv-demo/hosp')\n",
        "\n",
        "# Load data files\n",
        "admissions = pd.read_csv(DATA_DIR / 'admissions.csv.gz', compression='gzip')\n",
        "patients = pd.read_csv(DATA_DIR / 'patients.csv.gz', compression='gzip')\n",
        "diagnoses_icd = pd.read_csv(DATA_DIR / 'diagnoses_icd.csv.gz', compression='gzip')\n",
        "d_labitems = pd.read_csv(DATA_DIR / 'd_labitems.csv.gz', compression='gzip')\n",
        "\n",
        "print(\"Data loaded successfully!\")\n",
        "print(f\"\\nAdmissions: {len(admissions):,} rows\")\n",
        "print(f\"Patients: {len(patients):,} rows\")\n",
        "print(f\"Diagnoses (ICD): {len(diagnoses_icd):,} rows\")\n",
        "print(f\"Lab Items Dictionary: {len(d_labitems):,} rows\")\n"
      ]
    },
    {
      "cell_type": "markdown",
      "metadata": {},
      "source": [
        "## 1. Admissions Data\n",
        "\n",
        "Explore the admissions data structure and key variables.\n"
      ]
    },
    {
      "cell_type": "code",
      "execution_count": null,
      "metadata": {},
      "outputs": [],
      "source": [
        "# Display basic info\n",
        "print(\"Admissions Data Structure:\")\n",
        "print(\"=\" * 60)\n",
        "admissions.info()\n",
        "print(\"\\n\" + \"=\" * 60)\n",
        "print(\"\\nFirst few rows:\")\n",
        "admissions.head()\n"
      ]
    },
    {
      "cell_type": "code",
      "execution_count": null,
      "metadata": {},
      "outputs": [],
      "source": [
        "# Parse datetime columns\n",
        "admissions['admittime'] = pd.to_datetime(admissions['admittime'])\n",
        "admissions['dischtime'] = pd.to_datetime(admissions['dischtime'])\n",
        "admissions['deathtime'] = pd.to_datetime(admissions['deathtime'])\n",
        "admissions['edregtime'] = pd.to_datetime(admissions['edregtime'])\n",
        "admissions['edouttime'] = pd.to_datetime(admissions['edouttime'])\n",
        "\n",
        "# Compute length of stay\n",
        "admissions['los_days'] = (admissions['dischtime'] - admissions['admittime']).dt.total_seconds() / (24 * 3600)\n",
        "\n",
        "print(\"DateTime columns parsed and LOS computed!\")\n",
        "admissions[['admittime', 'dischtime', 'los_days']].head()\n"
      ]
    },
    {
      "cell_type": "code",
      "execution_count": null,
      "metadata": {},
      "outputs": [],
      "source": [
        "# Key statistics\n",
        "print(\"Admissions Summary Statistics:\")\n",
        "print(\"=\" * 60)\n",
        "print(f\"Total admissions: {len(admissions):,}\")\n",
        "print(f\"Unique patients: {admissions['subject_id'].nunique():,}\")\n",
        "print(f\"Admissions per patient (mean): {len(admissions) / admissions['subject_id'].nunique():.2f}\")\n",
        "print(f\"\\nDate range: {admissions['admittime'].min()} to {admissions['admittime'].max()}\")\n",
        "print(f\"\\nIn-hospital deaths: {admissions['hospital_expire_flag'].sum():,} ({admissions['hospital_expire_flag'].mean()*100:.1f}%)\")\n",
        "print(f\"\\nLength of Stay (days):\")\n",
        "print(admissions['los_days'].describe())\n"
      ]
    },
    {
      "cell_type": "code",
      "execution_count": null,
      "metadata": {},
      "outputs": [],
      "source": [
        "# Visualize admission types\n",
        "fig, axes = plt.subplots(1, 2, figsize=(14, 5))\n",
        "\n",
        "# Admission type\n",
        "admissions['admission_type'].value_counts().plot(kind='bar', ax=axes[0], color='steelblue')\n",
        "axes[0].set_title('Admission Type Distribution', fontsize=14, fontweight='bold')\n",
        "axes[0].set_xlabel('Admission Type')\n",
        "axes[0].set_ylabel('Count')\n",
        "axes[0].tick_params(axis='x', rotation=45)\n",
        "\n",
        "# Admission location\n",
        "admissions['admission_location'].value_counts().head(10).plot(kind='barh', ax=axes[1], color='coral')\n",
        "axes[1].set_title('Top 10 Admission Locations', fontsize=14, fontweight='bold')\n",
        "axes[1].set_xlabel('Count')\n",
        "axes[1].set_ylabel('Admission Location')\n",
        "\n",
        "plt.tight_layout()\n",
        "plt.show()\n"
      ]
    },
    {
      "cell_type": "code",
      "execution_count": null,
      "metadata": {},
      "outputs": [],
      "source": [
        "# Length of stay distribution\n",
        "fig, axes = plt.subplots(1, 2, figsize=(14, 5))\n",
        "\n",
        "# Histogram\n",
        "axes[0].hist(admissions['los_days'], bins=50, color='seagreen', alpha=0.7, edgecolor='black')\n",
        "axes[0].set_title('Length of Stay Distribution', fontsize=14, fontweight='bold')\n",
        "axes[0].set_xlabel('Days')\n",
        "axes[0].set_ylabel('Frequency')\n",
        "axes[0].axvline(admissions['los_days'].median(), color='red', linestyle='--', label=f'Median: {admissions[\"los_days\"].median():.1f} days')\n",
        "axes[0].legend()\n",
        "\n",
        "# Box plot by admission type\n",
        "admissions.boxplot(column='los_days', by='admission_type', ax=axes[1])\n",
        "axes[1].set_title('Length of Stay by Admission Type', fontsize=14, fontweight='bold')\n",
        "axes[1].set_xlabel('Admission Type')\n",
        "axes[1].set_ylabel('Days')\n",
        "axes[1].tick_params(axis='x', rotation=45)\n",
        "plt.suptitle('')  # Remove default title\n",
        "\n",
        "plt.tight_layout()\n",
        "plt.show()\n"
      ]
    },
    {
      "cell_type": "code",
      "execution_count": null,
      "metadata": {},
      "outputs": [],
      "source": [
        "# Discharge locations\n",
        "print(\"\\nDischarge Location Distribution:\")\n",
        "print(\"=\" * 60)\n",
        "discharge_counts = admissions['discharge_location'].value_counts()\n",
        "print(discharge_counts)\n",
        "\n",
        "# Visualize\n",
        "plt.figure(figsize=(12, 6))\n",
        "discharge_counts.head(10).plot(kind='barh', color='teal')\n",
        "plt.title('Top 10 Discharge Locations', fontsize=14, fontweight='bold')\n",
        "plt.xlabel('Count')\n",
        "plt.ylabel('Discharge Location')\n",
        "plt.tight_layout()\n",
        "plt.show()\n"
      ]
    },
    {
      "cell_type": "markdown",
      "metadata": {},
      "source": [
        "## 2. Patient Demographics\n",
        "\n",
        "Explore patient demographics and characteristics.\n"
      ]
    },
    {
      "cell_type": "code",
      "execution_count": null,
      "metadata": {},
      "outputs": [],
      "source": [
        "# Display patient data\n",
        "print(\"Patients Data Structure:\")\n",
        "print(\"=\" * 60)\n",
        "patients.info()\n",
        "print(\"\\n\" + \"=\" * 60)\n",
        "print(\"\\nFirst few rows:\")\n",
        "patients.head()\n"
      ]
    },
    {
      "cell_type": "code",
      "execution_count": null,
      "metadata": {},
      "outputs": [],
      "source": [
        "# Merge admissions with patient demographics\n",
        "df = admissions.merge(patients, on='subject_id', how='left')\n",
        "\n",
        "# Compute age at admission\n",
        "df['age_at_admission'] = df['anchor_age'] + (df['admittime'].dt.year - df['anchor_year'])\n",
        "\n",
        "print(\"Patient Demographics Summary:\")\n",
        "print(\"=\" * 60)\n",
        "print(f\"Total unique patients: {df['subject_id'].nunique():,}\")\n",
        "print(f\"\\nGender distribution:\")\n",
        "print(df.groupby('subject_id')['gender'].first().value_counts())\n",
        "print(f\"\\nAge at admission (years):\")\n",
        "print(df['age_at_admission'].describe())\n"
      ]
    },
    {
      "cell_type": "code",
      "execution_count": null,
      "metadata": {},
      "outputs": [],
      "source": [
        "# Visualize demographics\n",
        "fig, axes = plt.subplots(1, 2, figsize=(14, 5))\n",
        "\n",
        "# Gender distribution\n",
        "gender_counts = df.groupby('subject_id')['gender'].first().value_counts()\n",
        "axes[0].pie(gender_counts, labels=gender_counts.index, autopct='%1.1f%%', startangle=90, colors=['skyblue', 'lightcoral'])\n",
        "axes[0].set_title('Gender Distribution', fontsize=14, fontweight='bold')\n",
        "\n",
        "# Age distribution\n",
        "axes[1].hist(df['age_at_admission'], bins=30, color='mediumpurple', alpha=0.7, edgecolor='black')\n",
        "axes[1].set_title('Age at Admission Distribution', fontsize=14, fontweight='bold')\n",
        "axes[1].set_xlabel('Age (years)')\n",
        "axes[1].set_ylabel('Frequency')\n",
        "axes[1].axvline(df['age_at_admission'].median(), color='red', linestyle='--', label=f'Median: {df[\"age_at_admission\"].median():.1f} years')\n",
        "axes[1].legend()\n",
        "\n",
        "plt.tight_layout()\n",
        "plt.show()\n"
      ]
    },
    {
      "cell_type": "markdown",
      "metadata": {},
      "source": [
        "## 3. Readmission Analysis\n",
        "\n",
        "Analyze readmission patterns for survival analysis preparation.\n"
      ]
    },
    {
      "cell_type": "code",
      "execution_count": null,
      "metadata": {},
      "outputs": [],
      "source": [
        "# Sort by patient and admission time\n",
        "df_sorted = df.sort_values(['subject_id', 'admittime']).reset_index(drop=True)\n",
        "\n",
        "# Compute time to next admission\n",
        "df_sorted['next_admittime'] = df_sorted.groupby('subject_id')['admittime'].shift(-1)\n",
        "df_sorted['days_to_next_admission'] = (df_sorted['next_admittime'] - df_sorted['dischtime']).dt.total_seconds() / (24 * 3600)\n",
        "\n",
        "# Flag readmissions\n",
        "df_sorted['has_readmission'] = df_sorted['days_to_next_admission'].notna()\n",
        "df_sorted['readmitted_30d'] = (df_sorted['days_to_next_admission'] <= 30) & (df_sorted['days_to_next_admission'] > 0)\n",
        "\n",
        "print(\"Readmission Analysis:\")\n",
        "print(\"=\" * 60)\n",
        "print(f\"Total discharges: {len(df_sorted):,}\")\n",
        "print(f\"Discharges with subsequent readmission: {df_sorted['has_readmission'].sum():,} ({df_sorted['has_readmission'].mean()*100:.1f}%)\")\n",
        "print(f\"Readmissions within 30 days: {df_sorted['readmitted_30d'].sum():,} ({df_sorted['readmitted_30d'].mean()*100:.1f}%)\")\n",
        "print(f\"\\nTime to readmission (days):\")\n",
        "print(df_sorted[df_sorted['has_readmission']]['days_to_next_admission'].describe())\n"
      ]
    },
    {
      "cell_type": "code",
      "execution_count": null,
      "metadata": {},
      "outputs": [],
      "source": [
        "# Visualize readmission timing\n",
        "fig, axes = plt.subplots(1, 2, figsize=(14, 5))\n",
        "\n",
        "# Days to readmission distribution\n",
        "readmit_times = df_sorted[df_sorted['has_readmission']]['days_to_next_admission']\n",
        "axes[0].hist(readmit_times[readmit_times <= 90], bins=30, color='indianred', alpha=0.7, edgecolor='black')\n",
        "axes[0].axvline(30, color='red', linestyle='--', linewidth=2, label='30-day threshold')\n",
        "axes[0].set_title('Time to Readmission (≤90 days)', fontsize=14, fontweight='bold')\n",
        "axes[0].set_xlabel('Days')\n",
        "axes[0].set_ylabel('Frequency')\n",
        "axes[0].legend()\n",
        "\n",
        "# Readmission rate by time windows\n",
        "windows = [7, 14, 30, 60, 90]\n",
        "rates = [(df_sorted['days_to_next_admission'] <= w).sum() / len(df_sorted) * 100 for w in windows]\n",
        "axes[1].bar(range(len(windows)), rates, color='darkseagreen', edgecolor='black')\n",
        "axes[1].set_xticks(range(len(windows)))\n",
        "axes[1].set_xticklabels([f'{w}d' for w in windows])\n",
        "axes[1].set_title('Cumulative Readmission Rate by Time Window', fontsize=14, fontweight='bold')\n",
        "axes[1].set_xlabel('Time Window')\n",
        "axes[1].set_ylabel('Readmission Rate (%)')\n",
        "for i, v in enumerate(rates):\n",
        "    axes[1].text(i, v + 0.5, f'{v:.1f}%', ha='center', fontweight='bold')\n",
        "\n",
        "plt.tight_layout()\n",
        "plt.show()\n"
      ]
    },
    {
      "cell_type": "code",
      "execution_count": null,
      "metadata": {},
      "outputs": [],
      "source": [
        "# Readmission by patient characteristics\n",
        "print(\"\\n30-Day Readmission Rates by Patient Characteristics:\")\n",
        "print(\"=\" * 60)\n",
        "\n",
        "# By gender\n",
        "print(\"\\nBy Gender:\")\n",
        "readmit_by_gender = df_sorted.groupby('gender')['readmitted_30d'].agg(['sum', 'count', 'mean'])\n",
        "readmit_by_gender.columns = ['Readmissions', 'Total', 'Rate']\n",
        "readmit_by_gender['Rate'] = readmit_by_gender['Rate'] * 100\n",
        "print(readmit_by_gender)\n",
        "\n",
        "# By admission type\n",
        "print(\"\\nBy Admission Type:\")\n",
        "readmit_by_type = df_sorted.groupby('admission_type')['readmitted_30d'].agg(['sum', 'count', 'mean'])\n",
        "readmit_by_type.columns = ['Readmissions', 'Total', 'Rate']\n",
        "readmit_by_type['Rate'] = readmit_by_type['Rate'] * 100\n",
        "print(readmit_by_type.sort_values('Rate', ascending=False))\n",
        "\n",
        "# By age group\n",
        "df_sorted['age_group'] = pd.cut(df_sorted['age_at_admission'], bins=[0, 40, 60, 80, 120], labels=['<40', '40-60', '60-80', '80+'])\n",
        "print(\"\\nBy Age Group:\")\n",
        "readmit_by_age = df_sorted.groupby('age_group')['readmitted_30d'].agg(['sum', 'count', 'mean'])\n",
        "readmit_by_age.columns = ['Readmissions', 'Total', 'Rate']\n",
        "readmit_by_age['Rate'] = readmit_by_age['Rate'] * 100\n",
        "print(readmit_by_age)\n"
      ]
    },
    {
      "cell_type": "code",
      "execution_count": null,
      "metadata": {},
      "outputs": [],
      "source": [
        "# Visualize readmission rates by characteristics\n",
        "fig, axes = plt.subplots(1, 3, figsize=(16, 5))\n",
        "\n",
        "# By gender\n",
        "readmit_by_gender['Rate'].plot(kind='bar', ax=axes[0], color=['skyblue', 'lightcoral'], edgecolor='black')\n",
        "axes[0].set_title('30-Day Readmission Rate by Gender', fontsize=12, fontweight='bold')\n",
        "axes[0].set_xlabel('Gender')\n",
        "axes[0].set_ylabel('Readmission Rate (%)')\n",
        "axes[0].tick_params(axis='x', rotation=0)\n",
        "\n",
        "# By admission type\n",
        "readmit_by_type['Rate'].sort_values(ascending=False).plot(kind='bar', ax=axes[1], color='steelblue', edgecolor='black')\n",
        "axes[1].set_title('30-Day Readmission Rate by Admission Type', fontsize=12, fontweight='bold')\n",
        "axes[1].set_xlabel('Admission Type')\n",
        "axes[1].set_ylabel('Readmission Rate (%)')\n",
        "axes[1].tick_params(axis='x', rotation=45)\n",
        "\n",
        "# By age group\n",
        "readmit_by_age['Rate'].plot(kind='bar', ax=axes[2], color='mediumpurple', edgecolor='black')\n",
        "axes[2].set_title('30-Day Readmission Rate by Age Group', fontsize=12, fontweight='bold')\n",
        "axes[2].set_xlabel('Age Group')\n",
        "axes[2].set_ylabel('Readmission Rate (%)')\n",
        "axes[2].tick_params(axis='x', rotation=0)\n",
        "\n",
        "plt.tight_layout()\n",
        "plt.show()\n"
      ]
    },
    {
      "cell_type": "markdown",
      "metadata": {},
      "source": [
        "## 4. Diagnosis Data\n",
        "\n",
        "Explore ICD diagnosis codes.\n"
      ]
    },
    {
      "cell_type": "code",
      "execution_count": null,
      "metadata": {},
      "outputs": [],
      "source": [
        "# Diagnoses summary\n",
        "print(\"Diagnosis Data Summary:\")\n",
        "print(\"=\" * 60)\n",
        "print(f\"Total diagnosis records: {len(diagnoses_icd):,}\")\n",
        "print(f\"Unique admissions with diagnoses: {diagnoses_icd['hadm_id'].nunique():,}\")\n",
        "print(f\"Unique ICD codes: {diagnoses_icd['icd_code'].nunique():,}\")\n",
        "print(f\"\\nICD versions:\")\n",
        "print(diagnoses_icd['icd_version'].value_counts())\n",
        "print(f\"\\nDiagnoses per admission:\")\n",
        "diag_per_admission = diagnoses_icd.groupby('hadm_id').size()\n",
        "print(diag_per_admission.describe())\n"
      ]
    },
    {
      "cell_type": "code",
      "execution_count": null,
      "metadata": {},
      "outputs": [],
      "source": [
        "# Most common diagnoses\n",
        "print(\"\\nTop 20 Most Common ICD Codes:\")\n",
        "print(\"=\" * 60)\n",
        "top_diagnoses = diagnoses_icd['icd_code'].value_counts().head(20)\n",
        "print(top_diagnoses)\n",
        "\n",
        "# Visualize\n",
        "plt.figure(figsize=(12, 6))\n",
        "top_diagnoses.plot(kind='barh', color='darkorange', edgecolor='black')\n",
        "plt.title('Top 20 Most Common ICD Diagnosis Codes', fontsize=14, fontweight='bold')\n",
        "plt.xlabel('Frequency')\n",
        "plt.ylabel('ICD Code')\n",
        "plt.gca().invert_yaxis()\n",
        "plt.tight_layout()\n",
        "plt.show()\n"
      ]
    },
    {
      "cell_type": "code",
      "execution_count": null,
      "metadata": {},
      "outputs": [],
      "source": [
        "# Number of diagnoses per admission\n",
        "plt.figure(figsize=(12, 5))\n",
        "diag_per_admission.hist(bins=30, color='teal', alpha=0.7, edgecolor='black')\n",
        "plt.title('Number of Diagnoses per Admission', fontsize=14, fontweight='bold')\n",
        "plt.xlabel('Number of Diagnoses')\n",
        "plt.ylabel('Frequency')\n",
        "plt.axvline(diag_per_admission.median(), color='red', linestyle='--', linewidth=2, label=f'Median: {diag_per_admission.median():.0f}')\n",
        "plt.legend()\n",
        "plt.tight_layout()\n",
        "plt.show()\n"
      ]
    },
    {
      "cell_type": "markdown",
      "metadata": {},
      "source": []
    },
    {
      "cell_type": "code",
      "execution_count": null,
      "metadata": {},
      "outputs": [],
      "source": [
        "# Missing values in admissions\n",
        "print(\"Missing Values in Admissions Data:\")\n",
        "print(\"=\" * 60)\n",
        "missing_adm = admissions.isnull().sum()\n",
        "missing_pct = (missing_adm / len(admissions) * 100).round(2)\n",
        "missing_df = pd.DataFrame({\n",
        "    'Missing Count': missing_adm,\n",
        "    'Percentage': missing_pct\n",
        "})\n",
        "print(missing_df[missing_df['Missing Count'] > 0].sort_values('Missing Count', ascending=False))\n"
      ]
    },
    {
      "cell_type": "code",
      "execution_count": null,
      "metadata": {},
      "outputs": [],
      "source": [
        "# Visualize missing data\n",
        "fig, ax = plt.subplots(figsize=(10, 6))\n",
        "missing_cols = missing_df[missing_df['Missing Count'] > 0].sort_values('Missing Count', ascending=True)\n",
        "missing_cols['Percentage'].plot(kind='barh', ax=ax, color='crimson', edgecolor='black')\n",
        "ax.set_title('Missing Data by Column', fontsize=14, fontweight='bold')\n",
        "ax.set_xlabel('Percentage Missing (%)')\n",
        "ax.set_ylabel('Column')\n",
        "plt.tight_layout()\n",
        "plt.show()\n"
      ]
    },
    {
      "cell_type": "markdown",
      "metadata": {},
      "source": []
    },
    {
      "cell_type": "markdown",
      "metadata": {},
      "source": [
        "### Key Findings\n",
        "\n",
        "1. **Dataset Size**\n",
        "   - Small demo dataset for prototyping\n",
        "   - Limited number of patients and admissions\n",
        "   - Sufficient for pipeline development\n",
        "\n",
        "2. **Readmission Patterns**\n",
        "   - ~X% of discharges result in 30-day readmission\n",
        "   - Time to readmission varies significantly\n",
        "   - Higher rates in certain patient groups\n",
        "\n",
        "3. **Patient Characteristics**\n",
        "   - Age range spans from young adults to elderly\n",
        "   - Gender distribution appears balanced\n",
        "   - Multiple admission types (emergency, urgent, elective)\n",
        "\n",
        "4. **Data Quality**\n",
        "   - Some missing values in optional fields (ED times, death times)\n",
        "   - Core fields (admit/discharge times, patient ID) are complete\n",
        "   - Diagnosis data is comprehensive\n",
        "\n",
        "### Next Steps for Survival Analysis\n",
        "\n",
        "1. **Cohort Definition** (Notebook 02)\n",
        "   - Define inclusion/exclusion criteria\n",
        "   - Identify index discharges (exclude in-hospital deaths)\n",
        "   - Define event (readmission ≤30 days) vs censoring\n",
        "\n",
        "2. **Feature Engineering**\n",
        "   - Compute age at discharge\n",
        "   - Extract comorbidity scores from ICD codes\n",
        "   - Calculate length of stay\n",
        "   - Create prior admission counts\n",
        "\n",
        "3. **Modeling Considerations**\n",
        "   - Right-censoring at 30 days for non-readmitted patients\n",
        "   - Handle competing risk of death\n",
        "   - Account for small sample size in demo dataset\n",
        "\n",
        "4. **Full MIMIC-IV**\n",
        "   - Scale to full dataset for robust estimates\n",
        "   - Validate on larger cohort\n",
        "   - More statistical power for subgroup analyses\n"
      ]
    },
    {
      "cell_type": "code",
      "execution_count": null,
      "metadata": {},
      "outputs": [],
      "source": [
        "# Save processed dataframe for next notebook\n",
        "output_path = Path('../data/processed')\n",
        "output_path.mkdir(parents=True, exist_ok=True)\n",
        "\n",
        "df_sorted.to_csv(output_path / 'admissions_with_readmit.csv', index=False)\n",
        "print(f\"✓ Processed data saved to {output_path / 'admissions_with_readmit.csv'}\")\n",
        "print(f\"  Shape: {df_sorted.shape}\")\n",
        "print(f\"  Columns: {list(df_sorted.columns)}\")\n"
      ]
    },
    {
      "cell_type": "code",
      "execution_count": null,
      "metadata": {},
      "outputs": [],
      "source": [
        "# Import libraries\n",
        "import pandas as pd\n",
        "import numpy as np\n",
        "import matplotlib.pyplot as plt\n",
        "import seaborn as sns\n",
        "\n",
        "%matplotlib inline\n"
      ]
    }
  ],
  "metadata": {
    "language_info": {
      "name": "python"
    }
  },
  "nbformat": 4,
  "nbformat_minor": 2
}
