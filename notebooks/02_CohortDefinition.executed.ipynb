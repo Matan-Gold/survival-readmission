{
 "cells": [
  {
   "cell_type": "code",
   "execution_count": 1,
   "metadata": {
    "execution": {
     "iopub.execute_input": "2025-10-21T08:10:36.057530Z",
     "iopub.status.busy": "2025-10-21T08:10:36.057530Z",
     "iopub.status.idle": "2025-10-21T08:10:36.062915Z",
     "shell.execute_reply": "2025-10-21T08:10:36.061908Z"
    }
   },
   "outputs": [
    {
     "name": "stdout",
     "output_type": "stream",
     "text": [
      "Added to sys.path: C:\\Users\\Golds\\Downloads\\survival-readmission\n"
     ]
    }
   ],
   "source": [
    "# Ensure repository root is on sys.path for `import app.*`\n",
    "import sys\n",
    "from pathlib import Path\n",
    "repo_root = (Path.cwd() / '..').resolve()\n",
    "if str(repo_root) not in sys.path:\n",
    "    sys.path.insert(0, str(repo_root))\n",
    "print('Added to sys.path:', repo_root)\n"
   ]
  },
  {
   "cell_type": "markdown",
   "metadata": {},
   "source": [
    "# 02 - Cohort Definition\n",
    "\n",
    "This notebook defines the cohort for survival analysis, including:\n",
    "- Inclusion/exclusion criteria\n",
    "- Index event definition\n",
    "- Censoring rules\n",
    "- Event definitions (readmission)\n"
   ]
  },
  {
   "cell_type": "code",
   "execution_count": 2,
   "metadata": {
    "execution": {
     "iopub.execute_input": "2025-10-21T08:10:36.100185Z",
     "iopub.status.busy": "2025-10-21T08:10:36.099145Z",
     "iopub.status.idle": "2025-10-21T08:10:36.552293Z",
     "shell.execute_reply": "2025-10-21T08:10:36.549279Z"
    }
   },
   "outputs": [],
   "source": [
    "# Import libraries\n",
    "import pandas as pd\n",
    "import numpy as np\n",
    "from app.data_loader import load_admissions, load_patients\n",
    "from app.feature_engineering import define_cohort\n"
   ]
  },
  {
   "cell_type": "markdown",
   "metadata": {},
   "source": [
    "## Objective\n",
    "\n",
    "Build a 30-day readmission survival frame from MIMIC-IV Demo:\n",
    "- Index = each hospital discharge\n",
    "- event = 1 if 0 < days_to_next ≤ 30, else 0 (right-censored at 30 days)\n",
    "- time_to_event = min(days_to_next, 30)\n",
    "- Exclusions documented (death before readmission window, optional newborns)\n",
    "\n",
    "Assumes files from `app.download_demo` under `../data/raw/mimic-iv-demo/hosp/`.\n"
   ]
  },
  {
   "cell_type": "code",
   "execution_count": 3,
   "metadata": {
    "execution": {
     "iopub.execute_input": "2025-10-21T08:10:36.557608Z",
     "iopub.status.busy": "2025-10-21T08:10:36.556701Z",
     "iopub.status.idle": "2025-10-21T08:10:36.578930Z",
     "shell.execute_reply": "2025-10-21T08:10:36.578527Z"
    }
   },
   "outputs": [
    {
     "name": "stdout",
     "output_type": "stream",
     "text": [
      "Using DATA_DIR = ..\\data\\raw\\mimic-iv-demo\\hosp\n",
      "Admissions: 275\n",
      "Patients: 100\n"
     ]
    }
   ],
   "source": [
    "import pandas as pd\n",
    "import numpy as np\n",
    "from pathlib import Path\n",
    "import os\n",
    "import warnings\n",
    "warnings.filterwarnings('ignore')\n",
    "\n",
    "# Prefer env var (no hard-coded absolute paths); fallback to repo-relative path\n",
    "DATA_DIR = Path(os.getenv('MIMIC_DEMO_DIR', '../data/raw/mimic-iv-demo')) / 'hosp'\n",
    "print('Using DATA_DIR =', DATA_DIR)\n",
    "\n",
    "# Load required tables\n",
    "admissions = pd.read_csv(DATA_DIR / 'admissions.csv.gz', compression='gzip')\n",
    "patients = pd.read_csv(DATA_DIR / 'patients.csv.gz', compression='gzip')\n",
    "\n",
    "# Parse timestamps\n",
    "for col in ['admittime', 'dischtime', 'deathtime', 'edregtime', 'edouttime']:\n",
    "    if col in admissions.columns:\n",
    "        admissions[col] = pd.to_datetime(admissions[col])\n",
    "\n",
    "# Keep only rows with valid discharge\n",
    "admissions = admissions[admissions['dischtime'].notna()].copy()\n",
    "\n",
    "print(f\"Admissions: {len(admissions):,}\")\n",
    "print(f\"Patients: {len(patients):,}\")\n"
   ]
  },
  {
   "cell_type": "code",
   "execution_count": 4,
   "metadata": {
    "execution": {
     "iopub.execute_input": "2025-10-21T08:10:36.580967Z",
     "iopub.status.busy": "2025-10-21T08:10:36.580967Z",
     "iopub.status.idle": "2025-10-21T08:10:36.611108Z",
     "shell.execute_reply": "2025-10-21T08:10:36.610230Z"
    }
   },
   "outputs": [
    {
     "name": "stdout",
     "output_type": "stream",
     "text": [
      "   subject_id   hadm_id           dischtime      next_admittime  days_to_next  \\\n",
      "0    10000032  22595853 2180-05-07 17:15:00 2180-06-26 18:27:00     50.050000   \n",
      "1    10000032  22841357 2180-06-27 18:49:00 2180-07-23 12:35:00     25.740278   \n",
      "2    10000032  29079034 2180-07-25 17:55:00 2180-08-05 23:44:00     11.242361   \n",
      "3    10000032  25742920 2180-08-07 17:50:00                 NaT           NaN   \n",
      "4    10001217  24597018 2157-11-25 18:00:00 2157-12-18 16:58:00     22.956944   \n",
      "\n",
      "   event  time_to_event  \n",
      "0      0      30.000000  \n",
      "1      1      25.740278  \n",
      "2      1      11.242361  \n",
      "3      0      30.000000  \n",
      "4      1      22.956944  \n",
      "\n",
      "Event rate (30d): 0.192\n",
      "Median time_to_event: 30.0\n"
     ]
    }
   ],
   "source": [
    "# Merge demographics (anchor_age/year to compute age at discharge)\n",
    "cohort = admissions.merge(patients, on='subject_id', how='left')\n",
    "cohort['age_at_discharge'] = cohort['anchor_age'] + (cohort['dischtime'].dt.year - cohort['anchor_year'])\n",
    "\n",
    "# Sort per patient by admission time\n",
    "cohort = cohort.sort_values(['subject_id', 'admittime']).reset_index(drop=True)\n",
    "\n",
    "# Identify next admission per patient\n",
    "cohort['next_admittime'] = cohort.groupby('subject_id')['admittime'].shift(-1)\n",
    "\n",
    "# Compute elapsed days from current discharge to next admission\n",
    "cohort['days_to_next'] = (cohort['next_admittime'] - cohort['dischtime']).dt.total_seconds() / (24*3600)\n",
    "\n",
    "# Filter out likely same-hospitalization transfers (next admit very close to discharge)\n",
    "cohort.loc[cohort['days_to_next'] <= (6/24), 'days_to_next'] = np.nan  # <= 6 hours -> treat as no new admission\n",
    "\n",
    "# Define survival outcome\n",
    "cohort['event'] = ((cohort['days_to_next'] > 0) & (cohort['days_to_next'] <= 30)).astype(int)\n",
    "cohort['time_to_event'] = np.where(cohort['days_to_next'].notna(), np.minimum(cohort['days_to_next'], 30), 30)\n",
    "\n",
    "# Exclusion: In-hospital deaths -> no candidacy for readmission\n",
    "if 'hospital_expire_flag' in cohort.columns:\n",
    "    cohort = cohort[cohort['hospital_expire_flag'] == 0].copy()\n",
    "\n",
    "# Exclusion: death before day 30 (treat as censored at death time)\n",
    "if 'deathtime' in cohort.columns:\n",
    "    time_to_death = (cohort['deathtime'] - cohort['dischtime']).dt.total_seconds() / (24*3600)\n",
    "    # If death occurs before next admission and within 30 days, censor at death\n",
    "    mask_death_before30 = (time_to_death.notna()) & (time_to_death >= 0) & (time_to_death < cohort['time_to_event'])\n",
    "    cohort.loc[mask_death_before30, 'event'] = 0\n",
    "    cohort.loc[mask_death_before30, 'time_to_event'] = time_to_death[mask_death_before30]\n",
    "\n",
    "# Clip time_to_event to [0, 30]\n",
    "cohort['time_to_event'] = cohort['time_to_event'].clip(lower=0, upper=30)\n",
    "\n",
    "print(cohort[['subject_id','hadm_id','dischtime','next_admittime','days_to_next','event','time_to_event']].head())\n",
    "print('\\nEvent rate (30d):', cohort['event'].mean().round(3))\n",
    "print('Median time_to_event:', np.median(cohort['time_to_event']).round(2))\n"
   ]
  },
  {
   "cell_type": "code",
   "execution_count": 5,
   "metadata": {
    "execution": {
     "iopub.execute_input": "2025-10-21T08:10:36.613114Z",
     "iopub.status.busy": "2025-10-21T08:10:36.613114Z",
     "iopub.status.idle": "2025-10-21T08:10:36.631427Z",
     "shell.execute_reply": "2025-10-21T08:10:36.630698Z"
    }
   },
   "outputs": [
    {
     "name": "stdout",
     "output_type": "stream",
     "text": [
      "Saved cohort: ..\\data\\processed\\cohort_30d.csv\n",
      "   subject_id   hadm_id           admittime           dischtime  \\\n",
      "0    10000032  22595853 2180-05-06 22:23:00 2180-05-07 17:15:00   \n",
      "1    10000032  22841357 2180-06-26 18:27:00 2180-06-27 18:49:00   \n",
      "2    10000032  29079034 2180-07-23 12:35:00 2180-07-25 17:55:00   \n",
      "3    10000032  25742920 2180-08-05 23:44:00 2180-08-07 17:50:00   \n",
      "4    10001217  24597018 2157-11-18 22:56:00 2157-11-25 18:00:00   \n",
      "\n",
      "   age_at_discharge      next_admittime  days_to_next  event  time_to_event  \\\n",
      "0                52 2180-06-26 18:27:00     50.050000      0      30.000000   \n",
      "1                52 2180-07-23 12:35:00     25.740278      1      25.740278   \n",
      "2                52 2180-08-05 23:44:00     11.242361      1      11.242361   \n",
      "3                52                 NaT           NaN      0      30.000000   \n",
      "4                55 2157-12-18 16:58:00     22.956944      1      22.956944   \n",
      "\n",
      "  admission_type discharge_location insurance gender  \n",
      "0         URGENT               HOME     Other      F  \n",
      "1       EW EMER.               HOME  Medicaid      F  \n",
      "2       EW EMER.               HOME  Medicaid      F  \n",
      "3       EW EMER.            HOSPICE  Medicaid      F  \n",
      "4       EW EMER.   HOME HEALTH CARE     Other      F  \n"
     ]
    }
   ],
   "source": [
    "# Select minimum output columns\n",
    "cols = [\n",
    "    'subject_id','hadm_id','admittime','dischtime','age_at_discharge',\n",
    "    'next_admittime','days_to_next','event','time_to_event',\n",
    "    'admission_type','discharge_location','insurance','ethnicity','gender'\n",
    "]\n",
    "existing_cols = [c for c in cols if c in cohort.columns]\n",
    "cohort_out = cohort[existing_cols].copy()\n",
    "\n",
    "# Save to processed\n",
    "out_dir = Path('../data/processed')\n",
    "out_dir.mkdir(parents=True, exist_ok=True)\n",
    "cohort_path = out_dir / 'cohort_30d.csv'\n",
    "cohort_out.to_csv(cohort_path, index=False)\n",
    "print(f\"Saved cohort: {cohort_path}\")\n",
    "print(cohort_out.head())\n"
   ]
  },
  {
   "cell_type": "markdown",
   "metadata": {},
   "source": [
    "## Notes, Pitfalls, and Future Enhancements\n",
    "\n",
    "- Transfers vs. true readmissions: we exclude next admissions within 6 hours of discharge to reduce false positives due to intra-encounter transitions.\n",
    "- Right-censoring: `event=0` when no readmission within 30 days; `time_to_event` is truncated at 30.\n",
    "- Death before readmission: currently treated as censored at death time; consider competing risks in later iterations.\n",
    "- Planned readmissions: not implemented here; consider excluding if a heuristic is developed.\n",
    "- Newborns: exclude if scope is adult readmissions only.\n",
    "\n",
    "Output: `../data/processed/cohort_30d.csv` for modeling and EDA cross-checks.\n"
   ]
  }
 ],
 "metadata": {
  "kernelspec": {
   "display_name": "Python 3",
   "language": "python",
   "name": "python3"
  },
  "language_info": {
   "codemirror_mode": {
    "name": "ipython",
    "version": 3
   },
   "file_extension": ".py",
   "mimetype": "text/x-python",
   "name": "python",
   "nbconvert_exporter": "python",
   "pygments_lexer": "ipython3",
   "version": "3.12.4"
  }
 },
 "nbformat": 4,
 "nbformat_minor": 2
}
