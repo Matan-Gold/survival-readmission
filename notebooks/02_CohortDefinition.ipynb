{
  "cells": [
    {
      "cell_type": "markdown",
      "metadata": {},
      "source": [
        "# 02 - Cohort Definition\n",
        "\n",
        "This notebook defines the cohort for survival analysis, including:\n",
        "- Inclusion/exclusion criteria\n",
        "- Index event definition\n",
        "- Censoring rules\n",
        "- Event definitions (readmission)\n"
      ]
    },
    {
      "cell_type": "code",
      "execution_count": null,
      "metadata": {},
      "outputs": [],
      "source": [
        "# Import libraries\n",
        "import pandas as pd\n",
        "import numpy as np\n",
        "from app.data_loader import load_admissions, load_patients\n",
        "from app.feature_engineering import define_cohort\n"
      ]
    }
  ],
  "metadata": {
    "language_info": {
      "name": "python"
    }
  },
  "nbformat": 4,
  "nbformat_minor": 2
}
