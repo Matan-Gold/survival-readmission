{
  "cells": [
    {
      "cell_type": "markdown",
      "metadata": {},
      "source": [
        "# 03 - Survival Modeling\n",
        "\n",
        "This notebook trains and evaluates survival models:\n",
        "- Cox Proportional Hazards\n",
        "- XGBoost Survival\n",
        "- Other survival models\n"
      ]
    },
    {
      "cell_type": "code",
      "execution_count": null,
      "metadata": {},
      "outputs": [],
      "source": [
        "# Import libraries\n",
        "import pandas as pd\n",
        "import numpy as np\n",
        "from lifelines import CoxPHFitter\n",
        "from app.evaluation import compute_concordance_index, compute_td_auc\n"
      ]
    }
  ],
  "metadata": {
    "language_info": {
      "name": "python"
    }
  },
  "nbformat": 4,
  "nbformat_minor": 2
}
