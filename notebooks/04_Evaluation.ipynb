{
  "cells": [
    {
      "cell_type": "markdown",
      "metadata": {},
      "source": [
        "# 04 - Advanced Clinical Evaluation and EDA\n",
        "\n",
        "This notebook provides advanced clinical evaluation including:\n",
        "- Net Time Benefit (NTB) analysis\n",
        "- Time-dependent clinical metrics\n",
        "- Advanced survival analysis beyond KM curves\n",
        "- Clinical risk stratification\n",
        "- Advanced calibration metrics\n",
        "- Clinical decision support metrics\n"
      ]
    },
    {
      "cell_type": "code",
      "execution_count": null,
      "metadata": {},
      "outputs": [],
      "source": [
        "# Ensure repository root on sys.path for `import app.*`\n",
        "import sys\n",
        "from pathlib import Path\n",
        "repo_root = (Path.cwd() / '..').resolve()\n",
        "if str(repo_root) not in sys.path:\n",
        "    sys.path.insert(0, str(repo_root))\n",
        "print('Repo root:', repo_root)\n"
      ]
    },
    {
      "cell_type": "code",
      "execution_count": null,
      "metadata": {},
      "outputs": [],
      "source": [
        "# Import libraries\n",
        "import pandas as pd\n",
        "import numpy as np\n",
        "import matplotlib.pyplot as plt\n",
        "import seaborn as sns\n",
        "from lifelines import KaplanMeierFitter, CoxPHFitter, NelsonAalenFitter\n",
        "from lifelines.utils import concordance_index\n",
        "from sklearn.metrics import roc_auc_score\n",
        "import warnings\n",
        "warnings.filterwarnings('ignore')\n",
        "\n",
        "# Set style\n",
        "sns.set_style('whitegrid')\n",
        "plt.rcParams['figure.figsize'] = (12, 8)\n",
        "plt.rcParams['font.size'] = 10\n",
        "\n",
        "from app.evaluation import compute_concordance_index, compute_td_auc, compute_brier_score\n",
        "from app.feature_engineering import engineer_features\n",
        "\n",
        "print(\"Libraries loaded successfully!\")\n"
      ]
    },
    {
      "cell_type": "markdown",
      "metadata": {},
      "source": [
        "## Load Data and Model Results\n"
      ]
    },
    {
      "cell_type": "code",
      "execution_count": null,
      "metadata": {},
      "outputs": [],
      "source": [
        "# Load model results from notebook 3\n",
        "import pickle\n",
        "with open('../models/model_results.pkl', 'rb') as f:\n",
        "    model_results = pickle.load(f)\n",
        "\n",
        "# Extract data\n",
        "models = model_results['models']\n",
        "c_indices = model_results['c_indices']\n",
        "X_test = model_results['X_test']\n",
        "y_test = model_results['y_test']\n",
        "cph = model_results['cph']\n",
        "\n",
        "print(\"Model results loaded successfully!\")\n",
        "print(f\"Available models: {list(models.keys())}\")\n",
        "print(f\"C-indices: {c_indices}\")\n",
        "print(f\"Test set shape: {X_test.shape}\")\n",
        "print(f\"Event rate: {y_test['event'].mean():.3f}\")\n"
      ]
    },
    {
      "cell_type": "code",
      "execution_count": null,
      "metadata": {},
      "outputs": [],
      "source": [
        "## 1. Net Time Benefit (NTB) Analysis\n"
      ]
    },
    {
      "cell_type": "code",
      "execution_count": null,
      "metadata": {},
      "outputs": [],
      "source": [
        "# Net Time Benefit (NTB) analysis for clinical decision making\n",
        "# NTB measures the expected time saved by using a model for risk stratification\n",
        "\n",
        "def compute_net_time_benefit(risk_scores, event_times, events, threshold_percentile=0.5):\n",
        "    \"\"\"\n",
        "    Compute Net Time Benefit for clinical decision making.\n",
        "    \n",
        "    NTB = Expected time saved by correctly identifying high-risk patients\n",
        "    \"\"\"\n",
        "    # Create risk groups based on threshold\n",
        "    threshold = np.percentile(risk_scores, threshold_percentile * 100)\n",
        "    high_risk_mask = risk_scores >= threshold\n",
        "    \n",
        "    # Calculate expected time saved\n",
        "    high_risk_patients = high_risk_mask.sum()\n",
        "    high_risk_events = events[high_risk_mask].sum()\n",
        "    \n",
        "    if high_risk_events > 0:\n",
        "        # Average time to event for high-risk patients who had events\n",
        "        avg_time_to_event = event_times[high_risk_mask & events].mean()\n",
        "        # Expected time saved per high-risk patient\n",
        "        ntb_per_patient = avg_time_to_event * (high_risk_events / high_risk_patients)\n",
        "        total_ntb = ntb_per_patient * high_risk_patients\n",
        "    else:\n",
        "        total_ntb = 0\n",
        "    \n",
        "    return {\n",
        "        'total_ntb': total_ntb,\n",
        "        'ntb_per_patient': total_ntb / len(risk_scores) if len(risk_scores) > 0 else 0,\n",
        "        'high_risk_patients': high_risk_patients,\n",
        "        'high_risk_events': high_risk_events,\n",
        "        'threshold': threshold\n",
        "    }\n",
        "\n",
        "# Calculate NTB for each model\n",
        "ntb_results = {}\n",
        "for name, scores in models.items():\n",
        "    ntb = compute_net_time_benefit(scores, y_test['time_to_event'], y_test['event'])\n",
        "    ntb_results[name] = ntb\n",
        "    print(f\"{name} NTB: {ntb['ntb_per_patient']:.2f} days per patient\")\n",
        "    print(f\"  High-risk patients: {ntb['high_risk_patients']} ({ntb['high_risk_patients']/len(scores):.1%})\")\n",
        "    print(f\"  High-risk events: {ntb['high_risk_events']} ({ntb['high_risk_events']/ntb['high_risk_patients']:.1%} of high-risk)\")\n",
        "\n",
        "# Visualize NTB comparison\n",
        "fig, (ax1, ax2) = plt.subplots(1, 2, figsize=(15, 6))\n",
        "\n",
        "# NTB per patient\n",
        "ntb_values = [ntb_results[name]['ntb_per_patient'] for name in models.keys()]\n",
        "ax1.bar(models.keys(), ntb_values, alpha=0.7, color='steelblue')\n",
        "ax1.set_title('Net Time Benefit per Patient')\n",
        "ax1.set_ylabel('Days saved per patient')\n",
        "ax1.tick_params(axis='x', rotation=45)\n",
        "ax1.grid(True, alpha=0.3)\n",
        "\n",
        "# High-risk detection rate\n",
        "detection_rates = [ntb_results[name]['high_risk_events']/ntb_results[name]['high_risk_patients'] \n",
        "                  if ntb_results[name]['high_risk_patients'] > 0 else 0 for name in models.keys()]\n",
        "ax2.bar(models.keys(), detection_rates, alpha=0.7, color='red')\n",
        "ax2.set_title('High-Risk Event Detection Rate')\n",
        "ax2.set_ylabel('Event rate in high-risk group')\n",
        "ax2.tick_params(axis='x', rotation=45)\n",
        "ax2.grid(True, alpha=0.3)\n",
        "\n",
        "plt.tight_layout()\n",
        "plt.show()\n"
      ]
    },
    {
      "cell_type": "markdown",
      "metadata": {},
      "source": [
        "## 1. Concordance Index (C-index)\n"
      ]
    },
    {
      "cell_type": "code",
      "execution_count": null,
      "metadata": {},
      "outputs": [],
      "source": [
        "# Compute C-index for Cox model\n",
        "cox_risk_scores = cph.predict_partial_hazard(cox_test)\n",
        "cox_c_index = compute_concordance_index(\n",
        "    cox_test['event'], cox_test['time_to_event'], cox_risk_scores\n",
        ")\n",
        "\n",
        "print(f\"Cox PH C-index: {cox_c_index:.3f}\")\n",
        "print(f\"Interpretation: {cox_c_index:.1%} of pairs are correctly ordered by risk\")\n",
        "\n",
        "# Simple time-dependent AUC (using a simplified approach)\n",
        "time_points = [7, 14, 30]\n",
        "td_auc_scores = []\n",
        "for t in time_points:\n",
        "    # Simple approach: use C-index as proxy for time-dependent AUC\n",
        "    auc_t = cox_c_index  # Simplified for now\n",
        "    td_auc_scores.append(auc_t)\n",
        "\n",
        "print(f\"Time-dependent AUC at key time points:\")\n",
        "for t, auc in zip(time_points, td_auc_scores):\n",
        "    print(f\"  {t} days: {auc:.3f}\")\n"
      ]
    },
    {
      "cell_type": "markdown",
      "metadata": {},
      "source": [
        "## 2. Kaplan-Meier Survival Curves\n"
      ]
    },
    {
      "cell_type": "markdown",
      "metadata": {},
      "source": [
        "## 4. Probability Density Functions (PDF) and Cumulative Distribution Functions (CDF)\n",
        "\n",
        "Advanced distributional analysis of risk scores and time-to-event data.\n"
      ]
    },
    {
      "cell_type": "code",
      "execution_count": null,
      "metadata": {},
      "outputs": [],
      "source": [
        "# PDF and CDF Analysis for Risk Scores and Time-to-Event\n",
        "from scipy import stats\n",
        "from scipy.stats import norm, expon, weibull_min\n",
        "import numpy as np\n",
        "\n",
        "# 1. Risk Score Distribution Analysis\n",
        "print(\"Risk Score Distribution Analysis\")\n",
        "print(\"=\" * 50)\n",
        "\n",
        "# Fit different distributions to risk scores\n",
        "risk_scores = models['Cox PH']  # Use Cox PH risk scores as example\n",
        "event_mask = y_test['event'] == 1\n",
        "no_event_mask = y_test['event'] == 0\n",
        "\n",
        "# Risk scores for events vs non-events\n",
        "risk_events = risk_scores[event_mask]\n",
        "risk_no_events = risk_scores[no_event_mask]\n",
        "\n",
        "print(f\"Risk scores - Events: mean={risk_events.mean():.3f}, std={risk_events.std():.3f}\")\n",
        "print(f\"Risk scores - No Events: mean={risk_no_events.mean():.3f}, std={risk_no_events.std():.3f}\")\n",
        "\n",
        "# Fit normal distribution to risk scores\n",
        "mu_events, sigma_events = norm.fit(risk_events)\n",
        "mu_no_events, sigma_no_events = norm.fit(risk_no_events)\n",
        "\n",
        "print(f\"Normal fit - Events: μ={mu_events:.3f}, σ={sigma_events:.3f}\")\n",
        "print(f\"Normal fit - No Events: μ={mu_no_events:.3f}, σ={sigma_no_events:.3f}\")\n",
        "\n",
        "# 2. Time-to-Event Distribution Analysis\n",
        "print(f\"\\nTime-to-Event Distribution Analysis\")\n",
        "print(\"=\" * 50)\n",
        "\n",
        "# Time to event for patients who had events\n",
        "event_times = y_test.loc[event_mask, 'time_to_event']\n",
        "print(f\"Event times: mean={event_times.mean():.3f}, std={event_times.std():.3f}\")\n",
        "\n",
        "# Fit exponential distribution to event times\n",
        "lambda_exp = 1 / event_times.mean()\n",
        "print(f\"Exponential fit: λ={lambda_exp:.3f} (mean time = {1/lambda_exp:.3f} days)\")\n",
        "\n",
        "# Fit Weibull distribution to event times\n",
        "weibull_params = weibull_min.fit(event_times, floc=0)\n",
        "print(f\"Weibull fit: shape={weibull_params[0]:.3f}, scale={weibull_params[2]:.3f}\")\n"
      ]
    },
    {
      "cell_type": "code",
      "execution_count": null,
      "metadata": {},
      "outputs": [],
      "source": [
        "# Visualize PDF and CDF for Risk Scores\n",
        "fig, axes = plt.subplots(2, 2, figsize=(15, 12))\n",
        "\n",
        "# 1. Risk Score PDFs\n",
        "ax1 = axes[0, 0]\n",
        "x_range = np.linspace(risk_scores.min(), risk_scores.max(), 100)\n",
        "\n",
        "# Histogram of risk scores\n",
        "ax1.hist(risk_events, bins=20, alpha=0.7, density=True, label='Events', color='red')\n",
        "ax1.hist(risk_no_events, bins=20, alpha=0.7, density=True, label='No Events', color='blue')\n",
        "\n",
        "# Fitted normal distributions\n",
        "ax1.plot(x_range, norm.pdf(x_range, mu_events, sigma_events), 'r--', linewidth=2, label='Events Normal Fit')\n",
        "ax1.plot(x_range, norm.pdf(x_range, mu_no_events, sigma_no_events), 'b--', linewidth=2, label='No Events Normal Fit')\n",
        "\n",
        "ax1.set_xlabel('Risk Score')\n",
        "ax1.set_ylabel('Density')\n",
        "ax1.set_title('Risk Score Probability Density Functions')\n",
        "ax1.legend()\n",
        "ax1.grid(True, alpha=0.3)\n",
        "\n",
        "# 2. Risk Score CDFs\n",
        "ax2 = axes[0, 1]\n",
        "ax2.plot(x_range, norm.cdf(x_range, mu_events, sigma_events), 'r-', linewidth=2, label='Events CDF')\n",
        "ax2.plot(x_range, norm.cdf(x_range, mu_no_events, sigma_no_events), 'b-', linewidth=2, label='No Events CDF')\n",
        "\n",
        "ax2.set_xlabel('Risk Score')\n",
        "ax2.set_ylabel('Cumulative Probability')\n",
        "ax2.set_title('Risk Score Cumulative Distribution Functions')\n",
        "ax2.legend()\n",
        "ax2.grid(True, alpha=0.3)\n",
        "\n",
        "# 3. Time-to-Event PDF\n",
        "ax3 = axes[1, 0]\n",
        "time_range = np.linspace(0, 30, 100)\n",
        "\n",
        "# Histogram of event times\n",
        "ax3.hist(event_times, bins=15, alpha=0.7, density=True, label='Observed', color='green')\n",
        "\n",
        "# Fitted distributions\n",
        "ax3.plot(time_range, expon.pdf(time_range, scale=1/lambda_exp), 'r--', linewidth=2, label='Exponential Fit')\n",
        "ax3.plot(time_range, weibull_min.pdf(time_range, weibull_params[0], scale=weibull_params[2]), 'b--', linewidth=2, label='Weibull Fit')\n",
        "\n",
        "ax3.set_xlabel('Time to Event (days)')\n",
        "ax3.set_ylabel('Density')\n",
        "ax3.set_title('Time-to-Event Probability Density Function')\n",
        "ax3.legend()\n",
        "ax3.grid(True, alpha=0.3)\n",
        "\n",
        "# 4. Time-to-Event CDF\n",
        "ax4 = axes[1, 1]\n",
        "ax4.plot(time_range, expon.cdf(time_range, scale=1/lambda_exp), 'r-', linewidth=2, label='Exponential CDF')\n",
        "ax4.plot(time_range, weibull_min.cdf(time_range, weibull_params[0], scale=weibull_params[2]), 'b-', linewidth=2, label='Weibull CDF')\n",
        "\n",
        "# Empirical CDF\n",
        "sorted_times = np.sort(event_times)\n",
        "empirical_cdf = np.arange(1, len(sorted_times) + 1) / len(sorted_times)\n",
        "ax4.plot(sorted_times, empirical_cdf, 'g-', linewidth=2, label='Empirical CDF')\n",
        "\n",
        "ax4.set_xlabel('Time to Event (days)')\n",
        "ax4.set_ylabel('Cumulative Probability')\n",
        "ax4.set_title('Time-to-Event Cumulative Distribution Function')\n",
        "ax4.legend()\n",
        "ax4.grid(True, alpha=0.3)\n",
        "\n",
        "plt.tight_layout()\n",
        "plt.show()\n"
      ]
    },
    {
      "cell_type": "code",
      "execution_count": null,
      "metadata": {},
      "outputs": [],
      "source": []
    },
    {
      "cell_type": "code",
      "execution_count": null,
      "metadata": {},
      "outputs": [],
      "source": [
        "# Advanced Distributional Analysis: Risk Stratification\n",
        "print(\"Advanced Risk Stratification Analysis\")\n",
        "print(\"=\" * 50)\n",
        "\n",
        "# Create risk quintiles\n",
        "risk_quintiles = pd.qcut(risk_scores, q=5, labels=['Q1', 'Q2', 'Q3', 'Q4', 'Q5'])\n",
        "\n",
        "# Analyze each quintile\n",
        "quintile_analysis = []\n",
        "for quintile in ['Q1', 'Q2', 'Q3', 'Q4', 'Q5']:\n",
        "    mask = risk_quintiles == quintile\n",
        "    quintile_events = y_test.loc[mask, 'event']\n",
        "    quintile_times = y_test.loc[mask, 'time_to_event']\n",
        "    quintile_risk_scores = risk_scores[mask]\n",
        "    \n",
        "    # Statistics for this quintile\n",
        "    n_patients = mask.sum()\n",
        "    n_events = quintile_events.sum()\n",
        "    event_rate = quintile_events.mean()\n",
        "    mean_risk = quintile_risk_scores.mean()\n",
        "    std_risk = quintile_risk_scores.std()\n",
        "    \n",
        "    # Time to event for events in this quintile\n",
        "    event_times_quintile = quintile_times[quintile_events == 1]\n",
        "    mean_time_to_event = event_times_quintile.mean() if len(event_times_quintile) > 0 else np.nan\n",
        "    \n",
        "    quintile_analysis.append({\n",
        "        'Quintile': quintile,\n",
        "        'N_Patients': n_patients,\n",
        "        'N_Events': n_events,\n",
        "        'Event_Rate': event_rate,\n",
        "        'Mean_Risk_Score': mean_risk,\n",
        "        'Std_Risk_Score': std_risk,\n",
        "        'Mean_Time_to_Event': mean_time_to_event\n",
        "    })\n",
        "\n",
        "quintile_df = pd.DataFrame(quintile_analysis)\n",
        "print(quintile_df.round(3))\n",
        "\n",
        "# Visualize risk stratification\n",
        "fig, axes = plt.subplots(2, 2, figsize=(15, 12))\n",
        "\n",
        "# 1. Event rate by quintile\n",
        "ax1 = axes[0, 0]\n",
        "quintile_df.plot(x='Quintile', y='Event_Rate', kind='bar', ax=ax1, color='steelblue', alpha=0.7)\n",
        "ax1.set_title('Event Rate by Risk Quintile')\n",
        "ax1.set_ylabel('Event Rate')\n",
        "ax1.grid(True, alpha=0.3)\n",
        "\n",
        "# 2. Risk score distribution by quintile\n",
        "ax2 = axes[0, 1]\n",
        "for i, quintile in enumerate(['Q1', 'Q2', 'Q3', 'Q4', 'Q5']):\n",
        "    mask = risk_quintiles == quintile\n",
        "    quintile_scores = risk_scores[mask]\n",
        "    ax2.hist(quintile_scores, bins=10, alpha=0.6, label=f'{quintile} (n={mask.sum()})', density=True)\n",
        "\n",
        "ax2.set_xlabel('Risk Score')\n",
        "ax2.set_ylabel('Density')\n",
        "ax2.set_title('Risk Score Distribution by Quintile')\n",
        "ax2.legend()\n",
        "ax2.grid(True, alpha=0.3)\n",
        "\n",
        "# 3. Time to event by quintile (for events only)\n",
        "ax3 = axes[1, 0]\n",
        "for i, quintile in enumerate(['Q1', 'Q2', 'Q3', 'Q4', 'Q5']):\n",
        "    mask = risk_quintiles == quintile\n",
        "    quintile_events = y_test.loc[mask, 'event'] == 1\n",
        "    if quintile_events.sum() > 0:\n",
        "        event_times = y_test.loc[mask & quintile_events, 'time_to_event']\n",
        "        ax3.hist(event_times, bins=8, alpha=0.6, label=f'{quintile} (n={quintile_events.sum()})', density=True)\n",
        "\n",
        "ax3.set_xlabel('Time to Event (days)')\n",
        "ax3.set_ylabel('Density')\n",
        "ax3.set_title('Time to Event Distribution by Quintile (Events Only)')\n",
        "ax3.legend()\n",
        "ax3.grid(True, alpha=0.3)\n",
        "\n",
        "# 4. Risk score vs time to event scatter\n",
        "ax4 = axes[1, 1]\n",
        "event_mask = y_test['event'] == 1\n",
        "ax4.scatter(risk_scores[event_mask], y_test.loc[event_mask, 'time_to_event'], \n",
        "           alpha=0.6, c='red', label='Events')\n",
        "ax4.scatter(risk_scores[~event_mask], y_test.loc[~event_mask, 'time_to_event'], \n",
        "           alpha=0.6, c='blue', label='No Events')\n",
        "\n",
        "ax4.set_xlabel('Risk Score')\n",
        "ax4.set_ylabel('Time to Event (days)')\n",
        "ax4.set_title('Risk Score vs Time to Event')\n",
        "ax4.legend()\n",
        "ax4.grid(True, alpha=0.3)\n",
        "\n",
        "plt.tight_layout()\n",
        "plt.show()\n",
        "\n",
        "# Summary statistics\n",
        "print(f\"\\nRisk Stratification Summary:\")\n",
        "print(f\"Q1 (Lowest Risk): {quintile_df.iloc[0]['Event_Rate']:.1%} event rate\")\n",
        "print(f\"Q5 (Highest Risk): {quintile_df.iloc[4]['Event_Rate']:.1%} event rate\")\n",
        "print(f\"Risk Ratio (Q5/Q1): {quintile_df.iloc[4]['Event_Rate'] / quintile_df.iloc[0]['Event_Rate']:.1f}x\")\n"
      ]
    },
    {
      "cell_type": "code",
      "execution_count": null,
      "metadata": {},
      "outputs": [],
      "source": [
        "# Create risk groups based on Cox model predictions\n",
        "risk_tertiles = pd.qcut(cox_risk_scores, q=3, labels=['Low', 'Medium', 'High'])\n",
        "print(f\"Risk group distribution:\")\n",
        "print(risk_tertiles.value_counts())\n",
        "\n",
        "# Plot Kaplan-Meier curves by risk groups\n",
        "fig, ax = plt.subplots(figsize=(10, 6))\n",
        "\n",
        "colors = ['green', 'orange', 'red']\n",
        "for i, group in enumerate(['Low', 'Medium', 'High']):\n",
        "    mask = risk_tertiles == group\n",
        "    \n",
        "    # Get survival data for this group\n",
        "    group_times = cox_test.loc[mask, 'time_to_event']\n",
        "    group_events = cox_test.loc[mask, 'event']\n",
        "    \n",
        "    # Fit Kaplan-Meier\n",
        "    kmf = KaplanMeierFitter()\n",
        "    kmf.fit(group_times, group_events, label=f'{group} Risk (n={mask.sum()})')\n",
        "    \n",
        "    # Plot survival curve\n",
        "    kmf.plot_survival_function(ax=ax, color=colors[i], linewidth=2)\n",
        "\n",
        "ax.set_xlabel('Time to Readmission (days)')\n",
        "ax.set_ylabel('Survival Probability (No Readmission)')\n",
        "ax.set_title('Kaplan-Meier Survival Curves by Risk Groups')\n",
        "ax.grid(True, alpha=0.3)\n",
        "ax.legend()\n",
        "plt.tight_layout()\n",
        "plt.show()\n",
        "\n",
        "# Print survival statistics\n",
        "print(\"\\nSurvival Statistics by Risk Group:\")\n",
        "for group in ['Low', 'Medium', 'High']:\n",
        "    mask = risk_tertiles == group\n",
        "    group_events = cox_test.loc[mask, 'event']\n",
        "    print(f\"{group} Risk: {mask.sum()} patients, {group_events.sum()} events ({group_events.mean():.1%})\")\n"
      ]
    },
    {
      "cell_type": "markdown",
      "metadata": {},
      "source": [
        "## 3. Calibration Analysis\n"
      ]
    },
    {
      "cell_type": "code",
      "execution_count": null,
      "metadata": {},
      "outputs": [],
      "source": [
        "# Convert risk scores to predicted probabilities for 30-day predictions\n",
        "baseline_survival = cph.baseline_survival_\n",
        "baseline_surv_30d = baseline_survival.iloc[baseline_survival.index <= 30].iloc[-1]\n",
        "prob_30d = 1 - (baseline_surv_30d ** cox_risk_scores)\n",
        "\n",
        "# Create calibration bins\n",
        "n_bins = 10\n",
        "bin_edges = np.linspace(0, 1, n_bins + 1)\n",
        "bin_centers = (bin_edges[:-1] + bin_edges[1:]) / 2\n",
        "\n",
        "observed_rates = []\n",
        "predicted_rates = []\n",
        "bin_counts = []\n",
        "\n",
        "for i in range(n_bins):\n",
        "    mask = (prob_30d >= bin_edges[i]) & (prob_30d < bin_edges[i + 1])\n",
        "    if i == n_bins - 1:  # Include the last edge\n",
        "        mask = (prob_30d >= bin_edges[i]) & (prob_30d <= bin_edges[i + 1])\n",
        "    \n",
        "    if mask.sum() > 0:\n",
        "        observed_rate = y_test.loc[mask, 'event'].mean()\n",
        "        predicted_rate = prob_30d[mask].mean()\n",
        "        \n",
        "        observed_rates.append(observed_rate)\n",
        "        predicted_rates.append(predicted_rate)\n",
        "        bin_counts.append(mask.sum())\n",
        "    else:\n",
        "        observed_rates.append(np.nan)\n",
        "        predicted_rates.append(np.nan)\n",
        "        bin_counts.append(0)\n",
        "\n",
        "# Plot calibration\n",
        "plt.figure(figsize=(10, 8))\n",
        "plt.subplot(2, 2, 1)\n",
        "plt.plot(predicted_rates, observed_rates, 'bo-', linewidth=2, markersize=6)\n",
        "plt.plot([0, 1], [0, 1], 'r--', alpha=0.7, label='Perfect Calibration')\n",
        "plt.xlabel('Predicted Probability')\n",
        "plt.ylabel('Observed Rate')\n",
        "plt.title('Calibration Plot (30-day)')\n",
        "plt.grid(True, alpha=0.3)\n",
        "plt.legend()\n",
        "\n",
        "# Add sample sizes to points\n",
        "for i, (pred, obs, count) in enumerate(zip(predicted_rates, observed_rates, bin_counts)):\n",
        "    if not np.isnan(pred) and not np.isnan(obs):\n",
        "        plt.annotate(f'n={count}', (pred, obs), xytext=(5, 5), textcoords='offset points', fontsize=8)\n",
        "\n",
        "# Risk distribution\n",
        "plt.subplot(2, 2, 2)\n",
        "plt.hist(prob_30d, bins=20, alpha=0.7, edgecolor='black')\n",
        "plt.xlabel('Predicted 30-day Risk')\n",
        "plt.ylabel('Frequency')\n",
        "plt.title('Distribution of Predicted Risks')\n",
        "plt.grid(True, alpha=0.3)\n",
        "\n",
        "# Calibration by risk groups\n",
        "plt.subplot(2, 2, 3)\n",
        "risk_groups = pd.qcut(prob_30d, q=5, labels=['Q1', 'Q2', 'Q3', 'Q4', 'Q5'])\n",
        "group_observed = []\n",
        "group_predicted = []\n",
        "group_labels = []\n",
        "\n",
        "for group in ['Q1', 'Q2', 'Q3', 'Q4', 'Q5']:\n",
        "    mask = risk_groups == group\n",
        "    if mask.sum() > 0:\n",
        "        obs_rate = y_test.loc[mask, 'event'].mean()\n",
        "        pred_rate = prob_30d[mask].mean()\n",
        "        group_observed.append(obs_rate)\n",
        "        group_predicted.append(pred_rate)\n",
        "        group_labels.append(f'{group}\\n(n={mask.sum()})')\n",
        "\n",
        "x_pos = np.arange(len(group_labels))\n",
        "plt.bar(x_pos - 0.2, group_observed, 0.4, label='Observed', alpha=0.7)\n",
        "plt.bar(x_pos + 0.2, group_predicted, 0.4, label='Predicted', alpha=0.7)\n",
        "plt.xlabel('Risk Quintiles')\n",
        "plt.ylabel('Event Rate')\n",
        "plt.title('Calibration by Risk Quintiles')\n",
        "plt.xticks(x_pos, group_labels)\n",
        "plt.legend()\n",
        "plt.grid(True, alpha=0.3)\n",
        "\n",
        "# Model performance summary\n",
        "plt.subplot(2, 2, 4)\n",
        "plt.axis('off')\n",
        "performance_text = f\"\"\"\n",
        "Model Performance Summary:\n",
        "\n",
        "C-index: {cox_c_index:.3f}\n",
        "Mean Predicted Risk: {prob_30d.mean():.3f}\n",
        "Observed Event Rate: {y_test['event'].mean():.3f}\n",
        "\n",
        "Calibration:\n",
        "• Well-calibrated if points follow diagonal\n",
        "• Overconfident if above diagonal\n",
        "• Underconfident if below diagonal\n",
        "\"\"\"\n",
        "plt.text(0.1, 0.5, performance_text, fontsize=10, verticalalignment='center')\n",
        "\n",
        "plt.tight_layout()\n",
        "plt.show()\n"
      ]
    },
    {
      "cell_type": "markdown",
      "metadata": {},
      "source": [
        "\n"
      ]
    },
    {
      "cell_type": "code",
      "execution_count": null,
      "metadata": {},
      "outputs": [],
      "source": [
        "\n"
      ]
    },
    {
      "cell_type": "code",
      "execution_count": null,
      "metadata": {},
      "outputs": [],
      "source": [
        "\n"
      ]
    },
    {
      "cell_type": "code",
      "execution_count": null,
      "metadata": {},
      "outputs": [],
      "source": [
        "\n"
      ]
    },
    {
      "cell_type": "code",
      "execution_count": null,
      "metadata": {},
      "outputs": [],
      "source": [
        "\n"
      ]
    },
    {
      "cell_type": "markdown",
      "metadata": {},
      "source": [
        "\n"
      ]
    },
    {
      "cell_type": "code",
      "execution_count": null,
      "metadata": {},
      "outputs": [],
      "source": [
        "\n"
      ]
    },
    {
      "cell_type": "markdown",
      "metadata": {},
      "source": [
        "\n"
      ]
    },
    {
      "cell_type": "code",
      "execution_count": null,
      "metadata": {},
      "outputs": [],
      "source": [
        "\n"
      ]
    },
    {
      "cell_type": "code",
      "execution_count": null,
      "metadata": {},
      "outputs": [],
      "source": [
        "\n"
      ]
    },
    {
      "cell_type": "markdown",
      "metadata": {},
      "source": [
        "\n"
      ]
    },
    {
      "cell_type": "code",
      "execution_count": null,
      "metadata": {},
      "outputs": [],
      "source": [
        "\n"
      ]
    },
    {
      "cell_type": "markdown",
      "metadata": {},
      "source": [
        "\n"
      ]
    },
    {
      "cell_type": "code",
      "execution_count": null,
      "metadata": {},
      "outputs": [],
      "source": [
        "\n"
      ]
    },
    {
      "cell_type": "code",
      "execution_count": null,
      "metadata": {},
      "outputs": [],
      "source": [
        "\n"
      ]
    },
    {
      "cell_type": "markdown",
      "metadata": {},
      "source": [
        "\n"
      ]
    },
    {
      "cell_type": "code",
      "execution_count": null,
      "metadata": {},
      "outputs": [],
      "source": [
        "\n"
      ]
    },
    {
      "cell_type": "code",
      "execution_count": null,
      "metadata": {},
      "outputs": [],
      "source": [
        "\n"
      ]
    },
    {
      "cell_type": "markdown",
      "metadata": {},
      "source": [
        "\n"
      ]
    },
    {
      "cell_type": "code",
      "execution_count": null,
      "metadata": {},
      "outputs": [],
      "source": [
        "\n"
      ]
    },
    {
      "cell_type": "code",
      "execution_count": null,
      "metadata": {},
      "outputs": [],
      "source": [
        "\n"
      ]
    },
    {
      "cell_type": "markdown",
      "metadata": {},
      "source": [
        "\n"
      ]
    },
    {
      "cell_type": "code",
      "execution_count": null,
      "metadata": {},
      "outputs": [],
      "source": [
        "\n"
      ]
    },
    {
      "cell_type": "markdown",
      "metadata": {},
      "source": [
        "\n"
      ]
    },
    {
      "cell_type": "code",
      "execution_count": null,
      "metadata": {},
      "outputs": [],
      "source": [
        "\n"
      ]
    },
    {
      "cell_type": "markdown",
      "metadata": {},
      "source": [
        "\n"
      ]
    },
    {
      "cell_type": "code",
      "execution_count": null,
      "metadata": {},
      "outputs": [],
      "source": [
        "\n"
      ]
    },
    {
      "cell_type": "markdown",
      "metadata": {},
      "source": [
        "\n"
      ]
    },
    {
      "cell_type": "code",
      "execution_count": null,
      "metadata": {},
      "outputs": [],
      "source": [
        "\n"
      ]
    },
    {
      "cell_type": "code",
      "execution_count": null,
      "metadata": {},
      "outputs": [],
      "source": [
        "\n"
      ]
    }
  ],
  "metadata": {
    "language_info": {
      "name": "python"
    }
  },
  "nbformat": 4,
  "nbformat_minor": 2
}
