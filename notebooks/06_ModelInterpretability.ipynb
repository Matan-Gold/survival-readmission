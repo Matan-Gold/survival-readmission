{
  "cells": [
    {
      "cell_type": "markdown",
      "metadata": {},
      "source": [
        "# 06 - Model Explainability and SHAP Analysis\n",
        "\n",
        "This notebook focuses on model explainability and interpretability:\n",
        "- SHAP values for tree-based models\n",
        "- Feature importance comparison\n",
        "- Individual prediction explanations\n",
        "- Global interpretability analysis\n",
        "- Clinical feature impact assessment\n"
      ]
    },
    {
      "cell_type": "code",
      "execution_count": null,
      "metadata": {},
      "outputs": [],
      "source": [
        "# Ensure repository root on sys.path for `import app.*`\n",
        "import sys\n",
        "from pathlib import Path\n",
        "repo_root = (Path.cwd() / '..').resolve()\n",
        "if str(repo_root) not in sys.path:\n",
        "    sys.path.insert(0, str(repo_root))\n",
        "print('Repo root:', repo_root)\n"
      ]
    },
    {
      "cell_type": "code",
      "execution_count": null,
      "metadata": {},
      "outputs": [],
      "source": [
        "# Import libraries\n",
        "import pandas as pd\n",
        "import numpy as np\n",
        "import matplotlib.pyplot as plt\n",
        "import seaborn as sns\n",
        "from lifelines import CoxPHFitter\n",
        "from sklearn.ensemble import RandomForestClassifier\n",
        "from sklearn.model_selection import train_test_split\n",
        "import xgboost as xgb\n",
        "import warnings\n",
        "warnings.filterwarnings('ignore')\n",
        "\n",
        "# Set style\n",
        "sns.set_style('whitegrid')\n",
        "plt.rcParams['figure.figsize'] = (12, 8)\n",
        "plt.rcParams['font.size'] = 10\n",
        "\n",
        "from app.interpret import compute_hazard_ratios, compute_shap_values\n",
        "from app.feature_engineering import engineer_features\n",
        "\n",
        "print(\"Libraries loaded successfully!\")\n"
      ]
    },
    {
      "cell_type": "markdown",
      "metadata": {},
      "source": [
        "## Load Data and Model Results\n"
      ]
    },
    {
      "cell_type": "code",
      "execution_count": null,
      "metadata": {},
      "outputs": [],
      "source": [
        "# Load model results from notebook 3\n",
        "import pickle\n",
        "with open('../models/model_results.pkl', 'rb') as f:\n",
        "    model_results = pickle.load(f)\n",
        "\n",
        "# Extract data\n",
        "models = model_results['models']\n",
        "X_test = model_results['X_test']\n",
        "y_test = model_results['y_test']\n",
        "rf = model_results['rf']\n",
        "xgb_cox = model_results['xgb_cox']\n",
        "xgb_aft = model_results['xgb_aft']\n",
        "\n",
        "print(\"Model results loaded successfully!\")\n",
        "print(f\"Available models: {list(models.keys())}\")\n",
        "print(f\"Test set shape: {X_test.shape}\")\n",
        "print(f\"Features: {list(X_test.columns)}\")\n"
      ]
    },
    {
      "cell_type": "markdown",
      "metadata": {},
      "source": [
        "## 1. SHAP Values for Tree-Based Models\n"
      ]
    },
    {
      "cell_type": "code",
      "execution_count": null,
      "metadata": {},
      "outputs": [],
      "source": [
        "## 1. SHAP Values for Tree-Based Models\n",
        "try:\n",
        "    import shap\n",
        "\n",
        "    # Create SHAP explainers for tree-based models\n",
        "    explainers = {}\n",
        "    shap_values_dict = {}\n",
        "\n",
        "    # Random Forest SHAP\n",
        "    print(\"Computing SHAP values for Random Forest...\")\n",
        "    rf_explainer = shap.TreeExplainer(rf)\n",
        "    rf_shap_values = rf_explainer.shap_values(X_test)\n",
        "    explainers['Random Forest'] = rf_explainer\n",
        "    shap_values_dict['Random Forest'] = rf_shap_values\n",
        "\n",
        "    # XGBoost Cox SHAP\n",
        "    print(\"Computing SHAP values for XGBoost Cox...\")\n",
        "    xgb_cox_explainer = shap.TreeExplainer(xgb_cox)\n",
        "    xgb_cox_shap_values = xgb_cox_explainer.shap_values(X_test)\n",
        "    explainers['XGBoost Cox'] = xgb_cox_explainer\n",
        "    shap_values_dict['XGBoost Cox'] = xgb_cox_shap_values\n",
        "\n",
        "    # XGBoost AFT SHAP\n",
        "    print(\"Computing SHAP values for XGBoost AFT...\")\n",
        "    xgb_aft_explainer = shap.TreeExplainer(xgb_aft)\n",
        "    xgb_aft_shap_values = xgb_aft_explainer.shap_values(X_test)\n",
        "    explainers['XGBoost AFT'] = xgb_aft_explainer\n",
        "    shap_values_dict['XGBoost AFT'] = xgb_aft_shap_values\n",
        "\n",
        "    print(\"✓ SHAP values computed successfully!\")\n",
        "\n",
        "    # Global feature importance from SHAP\n",
        "    fig, axes = plt.subplots(1, 3, figsize=(18, 6))\n",
        "\n",
        "    for i, (name, shap_values) in enumerate(shap_values_dict.items()):\n",
        "        # Calculate mean absolute SHAP values for feature importance\n",
        "        feature_importance = np.abs(shap_values).mean(0)\n",
        "        feature_names = X_test.columns\n",
        "\n",
        "        # Sort by importance\n",
        "        importance_df = pd.DataFrame({\n",
        "            'feature': feature_names,\n",
        "            'importance': feature_importance\n",
        "        }).sort_values('importance', ascending=True)\n",
        "\n",
        "        # Plot top 15 features\n",
        "        top_features = importance_df.tail(15)\n",
        "        axes[i].barh(range(len(top_features)), top_features['importance'], alpha=0.7)\n",
        "        axes[i].set_yticks(range(len(top_features)))\n",
        "        axes[i].set_yticklabels(top_features['feature'], fontsize=8)\n",
        "        axes[i].set_xlabel('Mean |SHAP value|')\n",
        "        axes[i].set_title(f'{name} Feature Importance')\n",
        "        axes[i].grid(True, alpha=0.3)\n",
        "\n",
        "    plt.tight_layout()\n",
        "    plt.show()\n",
        "\n",
        "    # SHAP summary plots\n",
        "    fig, axes = plt.subplots(1, 3, figsize=(18, 6))\n",
        "\n",
        "    for i, (name, shap_values) in enumerate(shap_values_dict.items()):\n",
        "        shap.summary_plot(shap_values, X_test, show=False, ax=axes[i])\n",
        "        axes[i].set_title(f'{name} SHAP Summary')\n",
        "\n",
        "    plt.tight_layout()\n",
        "    plt.show()\n",
        "\n",
        "except ImportError:\n",
        "    print(\"SHAP library not available. Installing with: pip install shap\")\n",
        "except Exception as e:\n",
        "    print(f\"SHAP computation failed: {e}\")\n",
        "    print(\"This might be due to compatibility issues or missing dependencies.\")\n"
      ]
    }
  ],
  "metadata": {
    "language_info": {
      "name": "python"
    }
  },
  "nbformat": 4,
  "nbformat_minor": 2
}
