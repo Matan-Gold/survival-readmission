{
  "cells": [
    {
      "cell_type": "markdown",
      "metadata": {},
      "source": [
        "# 04 - Model Explainability\n",
        "\n",
        "This notebook provides model interpretation:\n",
        "- SHAP values\n",
        "- Hazard ratios\n",
        "- Feature importance\n",
        "- Survival curves\n"
      ]
    },
    {
      "cell_type": "code",
      "execution_count": null,
      "metadata": {},
      "outputs": [],
      "source": [
        "# Import libraries\n",
        "import pandas as pd\n",
        "import numpy as np\n",
        "import shap\n",
        "from app.interpret import compute_shap_values, compute_hazard_ratios, plot_survival_curves\n"
      ]
    }
  ],
  "metadata": {
    "language_info": {
      "name": "python"
    }
  },
  "nbformat": 4,
  "nbformat_minor": 2
}
